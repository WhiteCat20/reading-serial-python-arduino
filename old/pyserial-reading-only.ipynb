{
 "cells": [
  {
   "cell_type": "code",
   "execution_count": 1,
   "metadata": {},
   "outputs": [],
   "source": [
    "import serial\n",
    "import time\n",
    "import datetime"
   ]
  },
  {
   "cell_type": "code",
   "execution_count": 3,
   "metadata": {},
   "outputs": [],
   "source": [
    "# Replace 'COM4' with the port your Arduino is connected to\n",
    "arduino_port = 'COM4'\n",
    "baud_rate = 9600\n",
    "# Open the serial connection\n",
    "ser = serial.Serial(arduino_port, baud_rate)"
   ]
  },
  {
   "cell_type": "code",
   "execution_count": 4,
   "metadata": {},
   "outputs": [],
   "source": [
    "# Get current date and time\n",
    "now = datetime.datetime.now()\n",
    "# Format the date-time string as 'MMDDYYYY-HHMM'\n",
    "date_time_str = now.strftime(\"%d%m%Y-%H%M\")"
   ]
  },
  {
   "cell_type": "code",
   "execution_count": 5,
   "metadata": {},
   "outputs": [
    {
     "name": "stdout",
     "output_type": "stream",
     "text": [
      "1.42\n",
      "1.63\n",
      "1.75\n",
      "1.82\n",
      "1.85\n",
      "1.85\n",
      "1.84\n",
      "1.83\n",
      "1.83\n",
      "1.82\n",
      "1.80\n",
      "1.79\n",
      "1.78\n",
      "1.77\n",
      "1.75\n",
      "1.74\n",
      "1.72\n",
      "1.71\n",
      "1.69\n",
      "1.67\n",
      "1.65\n",
      "1.63\n",
      "1.61\n",
      "1.59\n",
      "1.58\n",
      "1.56\n",
      "1.54\n",
      "1.52\n",
      "1.51\n",
      "1.49\n",
      "1.48\n",
      "1.47\n",
      "1.46\n",
      "1.44\n",
      "1.43\n",
      "1.42\n",
      "1.41\n",
      "1.39\n",
      "1.39\n",
      "Serial connection closed.\n"
     ]
    }
   ],
   "source": [
    "start_time = time.time()\n",
    "while (time.time() - start_time) <= 30:  # Run for 30 seconds\n",
    "    try:\n",
    "        # Read a line from the serial port\n",
    "        line = ser.readline().decode().strip()\n",
    "        print(line)  # Print the received data\n",
    "\n",
    "    except KeyboardInterrupt:\n",
    "        break\n",
    "\n",
    "# Close the serial connection\n",
    "ser.close()\n",
    "print(\"Serial connection closed.\")"
   ]
  }
 ],
 "metadata": {
  "kernelspec": {
   "display_name": "Python 3",
   "language": "python",
   "name": "python3"
  },
  "language_info": {
   "codemirror_mode": {
    "name": "ipython",
    "version": 3
   },
   "file_extension": ".py",
   "mimetype": "text/x-python",
   "name": "python",
   "nbconvert_exporter": "python",
   "pygments_lexer": "ipython3",
   "version": "3.11.5"
  }
 },
 "nbformat": 4,
 "nbformat_minor": 2
}
