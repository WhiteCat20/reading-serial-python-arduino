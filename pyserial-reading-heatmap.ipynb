{
 "cells": [
  {
   "cell_type": "code",
   "execution_count": 2,
   "metadata": {},
   "outputs": [],
   "source": [
    "import serial\n",
    "import csv\n",
    "import matplotlib.pyplot as plt\n",
    "import seaborn as sns\n",
    "import time\n",
    "import numpy as np\n",
    "import datetime"
   ]
  },
  {
   "cell_type": "code",
   "execution_count": 4,
   "metadata": {},
   "outputs": [],
   "source": [
    "# Replace 'COM4' with the port your Arduino is connected to\n",
    "arduino_port = 'COM4'\n",
    "baud_rate = 9600\n",
    "# Open the serial connection\n",
    "ser = serial.Serial(arduino_port, baud_rate)"
   ]
  },
  {
   "cell_type": "code",
   "execution_count": 5,
   "metadata": {},
   "outputs": [
    {
     "name": "stdout",
     "output_type": "stream",
     "text": [
      "1.23\n",
      "1.23\n",
      "1.23\n",
      "1.23\n",
      "1.23\n",
      "1.23\n",
      "1.23\n",
      "1.23\n",
      "1.23\n",
      "1.23\n",
      "1.23\n",
      "1.23\n",
      "1.23\n",
      "1.23\n",
      "1.23\n",
      "1.24\n",
      "1.23\n",
      "1.23\n",
      "1.23\n",
      "1.23\n",
      "1.23\n",
      "1.23\n",
      "1.22\n",
      "1.23\n",
      "1.23\n",
      "1.23\n",
      "1.23\n",
      "1.23\n",
      "1.23\n",
      "1.22\n",
      "1.22\n",
      "Serial connection closed.\n"
     ]
    }
   ],
   "source": [
    "# Create a CSV file to store the data\n",
    "# Get current date and time\n",
    "now = datetime.datetime.now()\n",
    "# Format the date-time string as 'MMDDYYYY-HHMM'\n",
    "date_time_str = now.strftime(\"%d%m%Y-%H%M\")\n",
    "csv_file_path = f'{date_time_str}.csv'\n",
    "with open(csv_file_path, 'w', newline='') as csv_file:\n",
    "    csv_writer = csv.writer(csv_file)\n",
    "    csv_writer.writerow(['sensor_value'])  # Header row\n",
    "    \n",
    "    start_time = time.time()\n",
    "    while (time.time() - start_time) <= 30:  # Run for 60 seconds\n",
    "        try:\n",
    "            # Read a line from the serial port\n",
    "            line = ser.readline().decode().strip()\n",
    "            print(line)  # Print the received data\n",
    "            \n",
    "            # Write the received sensor value to the CSV file\n",
    "            csv_writer.writerow([line])\n",
    "\n",
    "        except KeyboardInterrupt:\n",
    "            break\n",
    "\n",
    "# Close the serial connection\n",
    "ser.close()\n",
    "print(\"Serial connection closed.\")\n"
   ]
  },
  {
   "cell_type": "code",
   "execution_count": 6,
   "metadata": {},
   "outputs": [],
   "source": [
    "# Read data from CSV file\n",
    "data = []\n",
    "with open(csv_file_path, 'r') as csv_file:\n",
    "    csv_reader = csv.reader(csv_file)\n",
    "    next(csv_reader)  # Skip header row\n",
    "    for row in csv_reader:\n",
    "        data.append(float(row[0]))"
   ]
  },
  {
   "cell_type": "code",
   "execution_count": 9,
   "metadata": {},
   "outputs": [],
   "source": [
    "# Calculate vmin and vmax from the data\n",
    "vmin = 0.98\n",
    "vmax = 4"
   ]
  },
  {
   "cell_type": "code",
   "execution_count": 10,
   "metadata": {},
   "outputs": [
    {
     "data": {
      "image/png": "[encoded data removed]",
      "text/plain": [
       "<Figure size 1200x800 with 1 Axes>"
      ]
     },
     "metadata": {},
     "output_type": "display_data"
    }
   ],
   "source": [
    "# Get the dynamic shape based on the size of the data\n",
    "heatmap_shape = (1, len(data))\n",
    "# Reshape data for heatmap\n",
    "heatmap_data = np.array(data).reshape(*heatmap_shape)\n",
    "\n",
    "# Create heatmap\n",
    "plt.figure(figsize=(12, 8))\n",
    "# heatmap themes = viridis, magma\n",
    "sns.heatmap(heatmap_data, annot=False, fmt=\".5f\", cmap=\"magma\", xticklabels=10, yticklabels=10, cbar=False,\n",
    "             vmin=vmin, vmax=vmax\n",
    ")\n",
    "plt.title('')\n",
    "plt.xlabel('')\n",
    "plt.ylabel('')\n",
    "plt.xticks([])\n",
    "plt.yticks([])\n",
    "plt.axis('off')\n",
    "plt.show()"
   ]
  }
 ],
 "metadata": {
  "kernelspec": {
   "display_name": "Python 3",
   "language": "python",
   "name": "python3"
  },
  "language_info": {
   "codemirror_mode": {
    "name": "ipython",
    "version": 3
   },
   "file_extension": ".py",
   "mimetype": "text/x-python",
   "name": "python",
   "nbconvert_exporter": "python",
   "pygments_lexer": "ipython3",
   "version": "3.11.5"
  }
 },
 "nbformat": 4,
 "nbformat_minor": 2
}
